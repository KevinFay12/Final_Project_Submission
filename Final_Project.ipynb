{
 "cells": [
  {
   "cell_type": "markdown",
   "metadata": {},
   "source": [
    "# Final Project"
   ]
  },
  {
   "cell_type": "code",
   "execution_count": 1,
   "metadata": {},
   "outputs": [],
   "source": [
    "import os\n",
    "\n",
    "import pandas as pd\n",
    "import numpy as np\n",
    "import matplotlib.pyplot as plt\n",
    "import seaborn as sns\n",
    "\n",
    "# Display plots in-notebook\n",
    "%matplotlib inline\n",
    "\n",
    "# Increase default figure and font sizes for easier viewing.\n",
    "plt.rcParams['figure.figsize'] = (8, 6)\n",
    "plt.rcParams['font.size'] = 14\n",
    "\n",
    "plt.style.use('fivethirtyeight')"
   ]
  },
  {
   "cell_type": "code",
   "execution_count": 2,
   "metadata": {},
   "outputs": [],
   "source": [
    "path = 'data/loan.csv'\n",
    "loan = pd.read_csv(path, low_memory=False)"
   ]
  },
  {
   "cell_type": "markdown",
   "metadata": {},
   "source": [
    "# Part 1: Problem Statement\n",
    "\n",
    "I plan to analyze the loan dataset from Lending Club from the year 2007-2015. I plan to identify the characteristics/variables that would lead to a high likelihood of default on the loans.\n",
    "\n",
    "Since I am trying to predict the likelihood of default I will include variables that one would only know from an application. We will look at how we can predict default using the following variables:\n",
    "* Income\n",
    "* Source of income verified vs unverified\n",
    "* Homeownership\n",
    "* Employment length\n",
    "* Length in the credit bureau\n",
    "* Debt-to-income (DTI)\n",
    "* Delinquency in the previous 2 years\n",
    "\n",
    "Once the variables are identified that lead to default/prepayment I will find borrowers that have a high likelihood of defaulting or being charged off and see how much was lost by Lending Club. "
   ]
  },
  {
   "cell_type": "markdown",
   "metadata": {},
   "source": [
    "# Part 2: Exploratory Data Analysis"
   ]
  },
  {
   "cell_type": "code",
   "execution_count": 3,
   "metadata": {},
   "outputs": [
    {
     "data": {
      "text/plain": [
       "(887379, 53)"
      ]
     },
     "execution_count": 3,
     "metadata": {},
     "output_type": "execute_result"
    }
   ],
   "source": [
    "half_count = len(loan) / 2\n",
    "loan = loan.dropna(thresh=half_count,axis=1)\n",
    "loan.shape\n",
    "#dropping columsnw with more than half of values missing"
   ]
  },
  {
   "cell_type": "code",
   "execution_count": 4,
   "metadata": {},
   "outputs": [
    {
     "data": {
      "text/html": [
       "<div>\n",
       "<style scoped>\n",
       "    .dataframe tbody tr th:only-of-type {\n",
       "        vertical-align: middle;\n",
       "    }\n",
       "\n",
       "    .dataframe tbody tr th {\n",
       "        vertical-align: top;\n",
       "    }\n",
       "\n",
       "    .dataframe thead th {\n",
       "        text-align: right;\n",
       "    }\n",
       "</style>\n",
       "<table border=\"1\" class=\"dataframe\">\n",
       "  <thead>\n",
       "    <tr style=\"text-align: right;\">\n",
       "      <th></th>\n",
       "      <th>id</th>\n",
       "      <th>member_id</th>\n",
       "      <th>loan_amnt</th>\n",
       "      <th>funded_amnt</th>\n",
       "      <th>funded_amnt_inv</th>\n",
       "      <th>term</th>\n",
       "      <th>int_rate</th>\n",
       "      <th>installment</th>\n",
       "      <th>grade</th>\n",
       "      <th>sub_grade</th>\n",
       "      <th>...</th>\n",
       "      <th>last_pymnt_amnt</th>\n",
       "      <th>next_pymnt_d</th>\n",
       "      <th>last_credit_pull_d</th>\n",
       "      <th>collections_12_mths_ex_med</th>\n",
       "      <th>policy_code</th>\n",
       "      <th>application_type</th>\n",
       "      <th>acc_now_delinq</th>\n",
       "      <th>tot_coll_amt</th>\n",
       "      <th>tot_cur_bal</th>\n",
       "      <th>total_rev_hi_lim</th>\n",
       "    </tr>\n",
       "  </thead>\n",
       "  <tbody>\n",
       "    <tr>\n",
       "      <th>0</th>\n",
       "      <td>1077501</td>\n",
       "      <td>1296599</td>\n",
       "      <td>5000.0</td>\n",
       "      <td>5000.0</td>\n",
       "      <td>4975.0</td>\n",
       "      <td>36 months</td>\n",
       "      <td>10.65</td>\n",
       "      <td>162.87</td>\n",
       "      <td>B</td>\n",
       "      <td>B2</td>\n",
       "      <td>...</td>\n",
       "      <td>171.62</td>\n",
       "      <td>NaN</td>\n",
       "      <td>Jan-2016</td>\n",
       "      <td>0.0</td>\n",
       "      <td>1.0</td>\n",
       "      <td>INDIVIDUAL</td>\n",
       "      <td>0.0</td>\n",
       "      <td>NaN</td>\n",
       "      <td>NaN</td>\n",
       "      <td>NaN</td>\n",
       "    </tr>\n",
       "    <tr>\n",
       "      <th>1</th>\n",
       "      <td>1077430</td>\n",
       "      <td>1314167</td>\n",
       "      <td>2500.0</td>\n",
       "      <td>2500.0</td>\n",
       "      <td>2500.0</td>\n",
       "      <td>60 months</td>\n",
       "      <td>15.27</td>\n",
       "      <td>59.83</td>\n",
       "      <td>C</td>\n",
       "      <td>C4</td>\n",
       "      <td>...</td>\n",
       "      <td>119.66</td>\n",
       "      <td>NaN</td>\n",
       "      <td>Sep-2013</td>\n",
       "      <td>0.0</td>\n",
       "      <td>1.0</td>\n",
       "      <td>INDIVIDUAL</td>\n",
       "      <td>0.0</td>\n",
       "      <td>NaN</td>\n",
       "      <td>NaN</td>\n",
       "      <td>NaN</td>\n",
       "    </tr>\n",
       "    <tr>\n",
       "      <th>2</th>\n",
       "      <td>1077175</td>\n",
       "      <td>1313524</td>\n",
       "      <td>2400.0</td>\n",
       "      <td>2400.0</td>\n",
       "      <td>2400.0</td>\n",
       "      <td>36 months</td>\n",
       "      <td>15.96</td>\n",
       "      <td>84.33</td>\n",
       "      <td>C</td>\n",
       "      <td>C5</td>\n",
       "      <td>...</td>\n",
       "      <td>649.91</td>\n",
       "      <td>NaN</td>\n",
       "      <td>Jan-2016</td>\n",
       "      <td>0.0</td>\n",
       "      <td>1.0</td>\n",
       "      <td>INDIVIDUAL</td>\n",
       "      <td>0.0</td>\n",
       "      <td>NaN</td>\n",
       "      <td>NaN</td>\n",
       "      <td>NaN</td>\n",
       "    </tr>\n",
       "    <tr>\n",
       "      <th>3</th>\n",
       "      <td>1076863</td>\n",
       "      <td>1277178</td>\n",
       "      <td>10000.0</td>\n",
       "      <td>10000.0</td>\n",
       "      <td>10000.0</td>\n",
       "      <td>36 months</td>\n",
       "      <td>13.49</td>\n",
       "      <td>339.31</td>\n",
       "      <td>C</td>\n",
       "      <td>C1</td>\n",
       "      <td>...</td>\n",
       "      <td>357.48</td>\n",
       "      <td>NaN</td>\n",
       "      <td>Jan-2015</td>\n",
       "      <td>0.0</td>\n",
       "      <td>1.0</td>\n",
       "      <td>INDIVIDUAL</td>\n",
       "      <td>0.0</td>\n",
       "      <td>NaN</td>\n",
       "      <td>NaN</td>\n",
       "      <td>NaN</td>\n",
       "    </tr>\n",
       "    <tr>\n",
       "      <th>4</th>\n",
       "      <td>1075358</td>\n",
       "      <td>1311748</td>\n",
       "      <td>3000.0</td>\n",
       "      <td>3000.0</td>\n",
       "      <td>3000.0</td>\n",
       "      <td>60 months</td>\n",
       "      <td>12.69</td>\n",
       "      <td>67.79</td>\n",
       "      <td>B</td>\n",
       "      <td>B5</td>\n",
       "      <td>...</td>\n",
       "      <td>67.79</td>\n",
       "      <td>Feb-2016</td>\n",
       "      <td>Jan-2016</td>\n",
       "      <td>0.0</td>\n",
       "      <td>1.0</td>\n",
       "      <td>INDIVIDUAL</td>\n",
       "      <td>0.0</td>\n",
       "      <td>NaN</td>\n",
       "      <td>NaN</td>\n",
       "      <td>NaN</td>\n",
       "    </tr>\n",
       "  </tbody>\n",
       "</table>\n",
       "<p>5 rows × 53 columns</p>\n",
       "</div>"
      ],
      "text/plain": [
       "        id  member_id  loan_amnt  funded_amnt  funded_amnt_inv        term  \\\n",
       "0  1077501    1296599     5000.0       5000.0           4975.0   36 months   \n",
       "1  1077430    1314167     2500.0       2500.0           2500.0   60 months   \n",
       "2  1077175    1313524     2400.0       2400.0           2400.0   36 months   \n",
       "3  1076863    1277178    10000.0      10000.0          10000.0   36 months   \n",
       "4  1075358    1311748     3000.0       3000.0           3000.0   60 months   \n",
       "\n",
       "   int_rate  installment grade sub_grade       ...        last_pymnt_amnt  \\\n",
       "0     10.65       162.87     B        B2       ...                 171.62   \n",
       "1     15.27        59.83     C        C4       ...                 119.66   \n",
       "2     15.96        84.33     C        C5       ...                 649.91   \n",
       "3     13.49       339.31     C        C1       ...                 357.48   \n",
       "4     12.69        67.79     B        B5       ...                  67.79   \n",
       "\n",
       "  next_pymnt_d last_credit_pull_d  collections_12_mths_ex_med policy_code  \\\n",
       "0          NaN           Jan-2016                         0.0         1.0   \n",
       "1          NaN           Sep-2013                         0.0         1.0   \n",
       "2          NaN           Jan-2016                         0.0         1.0   \n",
       "3          NaN           Jan-2015                         0.0         1.0   \n",
       "4     Feb-2016           Jan-2016                         0.0         1.0   \n",
       "\n",
       "  application_type acc_now_delinq tot_coll_amt tot_cur_bal total_rev_hi_lim  \n",
       "0       INDIVIDUAL            0.0          NaN         NaN              NaN  \n",
       "1       INDIVIDUAL            0.0          NaN         NaN              NaN  \n",
       "2       INDIVIDUAL            0.0          NaN         NaN              NaN  \n",
       "3       INDIVIDUAL            0.0          NaN         NaN              NaN  \n",
       "4       INDIVIDUAL            0.0          NaN         NaN              NaN  \n",
       "\n",
       "[5 rows x 53 columns]"
      ]
     },
     "execution_count": 4,
     "metadata": {},
     "output_type": "execute_result"
    }
   ],
   "source": [
    "loan.head()"
   ]
  },
  {
   "cell_type": "code",
   "execution_count": 5,
   "metadata": {},
   "outputs": [
    {
     "data": {
      "text/html": [
       "<div>\n",
       "<style scoped>\n",
       "    .dataframe tbody tr th:only-of-type {\n",
       "        vertical-align: middle;\n",
       "    }\n",
       "\n",
       "    .dataframe tbody tr th {\n",
       "        vertical-align: top;\n",
       "    }\n",
       "\n",
       "    .dataframe thead th {\n",
       "        text-align: right;\n",
       "    }\n",
       "</style>\n",
       "<table border=\"1\" class=\"dataframe\">\n",
       "  <thead>\n",
       "    <tr style=\"text-align: right;\">\n",
       "      <th></th>\n",
       "      <th>id</th>\n",
       "      <th>member_id</th>\n",
       "      <th>loan_amnt</th>\n",
       "      <th>funded_amnt</th>\n",
       "      <th>funded_amnt_inv</th>\n",
       "      <th>int_rate</th>\n",
       "      <th>installment</th>\n",
       "      <th>annual_inc</th>\n",
       "      <th>dti</th>\n",
       "      <th>delinq_2yrs</th>\n",
       "      <th>...</th>\n",
       "      <th>total_rec_late_fee</th>\n",
       "      <th>recoveries</th>\n",
       "      <th>collection_recovery_fee</th>\n",
       "      <th>last_pymnt_amnt</th>\n",
       "      <th>collections_12_mths_ex_med</th>\n",
       "      <th>policy_code</th>\n",
       "      <th>acc_now_delinq</th>\n",
       "      <th>tot_coll_amt</th>\n",
       "      <th>tot_cur_bal</th>\n",
       "      <th>total_rev_hi_lim</th>\n",
       "    </tr>\n",
       "  </thead>\n",
       "  <tbody>\n",
       "    <tr>\n",
       "      <th>count</th>\n",
       "      <td>8.873790e+05</td>\n",
       "      <td>8.873790e+05</td>\n",
       "      <td>887379.000000</td>\n",
       "      <td>887379.000000</td>\n",
       "      <td>887379.000000</td>\n",
       "      <td>887379.000000</td>\n",
       "      <td>887379.000000</td>\n",
       "      <td>8.873750e+05</td>\n",
       "      <td>887379.000000</td>\n",
       "      <td>887350.000000</td>\n",
       "      <td>...</td>\n",
       "      <td>887379.000000</td>\n",
       "      <td>887379.000000</td>\n",
       "      <td>887379.000000</td>\n",
       "      <td>887379.000000</td>\n",
       "      <td>887234.000000</td>\n",
       "      <td>887379.0</td>\n",
       "      <td>887350.000000</td>\n",
       "      <td>8.171030e+05</td>\n",
       "      <td>8.171030e+05</td>\n",
       "      <td>8.171030e+05</td>\n",
       "    </tr>\n",
       "    <tr>\n",
       "      <th>mean</th>\n",
       "      <td>3.246513e+07</td>\n",
       "      <td>3.500182e+07</td>\n",
       "      <td>14755.264605</td>\n",
       "      <td>14741.877625</td>\n",
       "      <td>14702.464383</td>\n",
       "      <td>13.246740</td>\n",
       "      <td>436.717127</td>\n",
       "      <td>7.502759e+04</td>\n",
       "      <td>18.157039</td>\n",
       "      <td>0.314442</td>\n",
       "      <td>...</td>\n",
       "      <td>0.396692</td>\n",
       "      <td>45.919243</td>\n",
       "      <td>4.880757</td>\n",
       "      <td>2164.145585</td>\n",
       "      <td>0.014380</td>\n",
       "      <td>1.0</td>\n",
       "      <td>0.004991</td>\n",
       "      <td>2.257026e+02</td>\n",
       "      <td>1.394582e+05</td>\n",
       "      <td>3.206862e+04</td>\n",
       "    </tr>\n",
       "    <tr>\n",
       "      <th>std</th>\n",
       "      <td>2.282734e+07</td>\n",
       "      <td>2.411335e+07</td>\n",
       "      <td>8435.455601</td>\n",
       "      <td>8429.897657</td>\n",
       "      <td>8442.106732</td>\n",
       "      <td>4.381867</td>\n",
       "      <td>244.186593</td>\n",
       "      <td>6.469830e+04</td>\n",
       "      <td>17.190626</td>\n",
       "      <td>0.862244</td>\n",
       "      <td>...</td>\n",
       "      <td>4.087825</td>\n",
       "      <td>409.693874</td>\n",
       "      <td>63.125281</td>\n",
       "      <td>4794.783233</td>\n",
       "      <td>0.134191</td>\n",
       "      <td>0.0</td>\n",
       "      <td>0.077625</td>\n",
       "      <td>1.031137e+04</td>\n",
       "      <td>1.537500e+05</td>\n",
       "      <td>3.749826e+04</td>\n",
       "    </tr>\n",
       "    <tr>\n",
       "      <th>min</th>\n",
       "      <td>5.473400e+04</td>\n",
       "      <td>7.047300e+04</td>\n",
       "      <td>500.000000</td>\n",
       "      <td>500.000000</td>\n",
       "      <td>0.000000</td>\n",
       "      <td>5.320000</td>\n",
       "      <td>15.670000</td>\n",
       "      <td>0.000000e+00</td>\n",
       "      <td>0.000000</td>\n",
       "      <td>0.000000</td>\n",
       "      <td>...</td>\n",
       "      <td>0.000000</td>\n",
       "      <td>0.000000</td>\n",
       "      <td>0.000000</td>\n",
       "      <td>0.000000</td>\n",
       "      <td>0.000000</td>\n",
       "      <td>1.0</td>\n",
       "      <td>0.000000</td>\n",
       "      <td>0.000000e+00</td>\n",
       "      <td>0.000000e+00</td>\n",
       "      <td>0.000000e+00</td>\n",
       "    </tr>\n",
       "    <tr>\n",
       "      <th>25%</th>\n",
       "      <td>9.206643e+06</td>\n",
       "      <td>1.087713e+07</td>\n",
       "      <td>8000.000000</td>\n",
       "      <td>8000.000000</td>\n",
       "      <td>8000.000000</td>\n",
       "      <td>9.990000</td>\n",
       "      <td>260.705000</td>\n",
       "      <td>4.500000e+04</td>\n",
       "      <td>11.910000</td>\n",
       "      <td>0.000000</td>\n",
       "      <td>...</td>\n",
       "      <td>0.000000</td>\n",
       "      <td>0.000000</td>\n",
       "      <td>0.000000</td>\n",
       "      <td>280.170000</td>\n",
       "      <td>0.000000</td>\n",
       "      <td>1.0</td>\n",
       "      <td>0.000000</td>\n",
       "      <td>0.000000e+00</td>\n",
       "      <td>2.985300e+04</td>\n",
       "      <td>1.390000e+04</td>\n",
       "    </tr>\n",
       "    <tr>\n",
       "      <th>50%</th>\n",
       "      <td>3.443327e+07</td>\n",
       "      <td>3.709528e+07</td>\n",
       "      <td>13000.000000</td>\n",
       "      <td>13000.000000</td>\n",
       "      <td>13000.000000</td>\n",
       "      <td>12.990000</td>\n",
       "      <td>382.550000</td>\n",
       "      <td>6.500000e+04</td>\n",
       "      <td>17.650000</td>\n",
       "      <td>0.000000</td>\n",
       "      <td>...</td>\n",
       "      <td>0.000000</td>\n",
       "      <td>0.000000</td>\n",
       "      <td>0.000000</td>\n",
       "      <td>462.780000</td>\n",
       "      <td>0.000000</td>\n",
       "      <td>1.0</td>\n",
       "      <td>0.000000</td>\n",
       "      <td>0.000000e+00</td>\n",
       "      <td>8.055900e+04</td>\n",
       "      <td>2.370000e+04</td>\n",
       "    </tr>\n",
       "    <tr>\n",
       "      <th>75%</th>\n",
       "      <td>5.490814e+07</td>\n",
       "      <td>5.847135e+07</td>\n",
       "      <td>20000.000000</td>\n",
       "      <td>20000.000000</td>\n",
       "      <td>20000.000000</td>\n",
       "      <td>16.200000</td>\n",
       "      <td>572.600000</td>\n",
       "      <td>9.000000e+04</td>\n",
       "      <td>23.950000</td>\n",
       "      <td>0.000000</td>\n",
       "      <td>...</td>\n",
       "      <td>0.000000</td>\n",
       "      <td>0.000000</td>\n",
       "      <td>0.000000</td>\n",
       "      <td>831.245000</td>\n",
       "      <td>0.000000</td>\n",
       "      <td>1.0</td>\n",
       "      <td>0.000000</td>\n",
       "      <td>0.000000e+00</td>\n",
       "      <td>2.082050e+05</td>\n",
       "      <td>3.980000e+04</td>\n",
       "    </tr>\n",
       "    <tr>\n",
       "      <th>max</th>\n",
       "      <td>6.861706e+07</td>\n",
       "      <td>7.354484e+07</td>\n",
       "      <td>35000.000000</td>\n",
       "      <td>35000.000000</td>\n",
       "      <td>35000.000000</td>\n",
       "      <td>28.990000</td>\n",
       "      <td>1445.460000</td>\n",
       "      <td>9.500000e+06</td>\n",
       "      <td>9999.000000</td>\n",
       "      <td>39.000000</td>\n",
       "      <td>...</td>\n",
       "      <td>358.680000</td>\n",
       "      <td>33520.270000</td>\n",
       "      <td>7002.190000</td>\n",
       "      <td>36475.590000</td>\n",
       "      <td>20.000000</td>\n",
       "      <td>1.0</td>\n",
       "      <td>14.000000</td>\n",
       "      <td>9.152545e+06</td>\n",
       "      <td>8.000078e+06</td>\n",
       "      <td>9.999999e+06</td>\n",
       "    </tr>\n",
       "  </tbody>\n",
       "</table>\n",
       "<p>8 rows × 32 columns</p>\n",
       "</div>"
      ],
      "text/plain": [
       "                 id     member_id      loan_amnt    funded_amnt  \\\n",
       "count  8.873790e+05  8.873790e+05  887379.000000  887379.000000   \n",
       "mean   3.246513e+07  3.500182e+07   14755.264605   14741.877625   \n",
       "std    2.282734e+07  2.411335e+07    8435.455601    8429.897657   \n",
       "min    5.473400e+04  7.047300e+04     500.000000     500.000000   \n",
       "25%    9.206643e+06  1.087713e+07    8000.000000    8000.000000   \n",
       "50%    3.443327e+07  3.709528e+07   13000.000000   13000.000000   \n",
       "75%    5.490814e+07  5.847135e+07   20000.000000   20000.000000   \n",
       "max    6.861706e+07  7.354484e+07   35000.000000   35000.000000   \n",
       "\n",
       "       funded_amnt_inv       int_rate    installment    annual_inc  \\\n",
       "count    887379.000000  887379.000000  887379.000000  8.873750e+05   \n",
       "mean      14702.464383      13.246740     436.717127  7.502759e+04   \n",
       "std        8442.106732       4.381867     244.186593  6.469830e+04   \n",
       "min           0.000000       5.320000      15.670000  0.000000e+00   \n",
       "25%        8000.000000       9.990000     260.705000  4.500000e+04   \n",
       "50%       13000.000000      12.990000     382.550000  6.500000e+04   \n",
       "75%       20000.000000      16.200000     572.600000  9.000000e+04   \n",
       "max       35000.000000      28.990000    1445.460000  9.500000e+06   \n",
       "\n",
       "                 dti    delinq_2yrs        ...         total_rec_late_fee  \\\n",
       "count  887379.000000  887350.000000        ...              887379.000000   \n",
       "mean       18.157039       0.314442        ...                   0.396692   \n",
       "std        17.190626       0.862244        ...                   4.087825   \n",
       "min         0.000000       0.000000        ...                   0.000000   \n",
       "25%        11.910000       0.000000        ...                   0.000000   \n",
       "50%        17.650000       0.000000        ...                   0.000000   \n",
       "75%        23.950000       0.000000        ...                   0.000000   \n",
       "max      9999.000000      39.000000        ...                 358.680000   \n",
       "\n",
       "          recoveries  collection_recovery_fee  last_pymnt_amnt  \\\n",
       "count  887379.000000            887379.000000    887379.000000   \n",
       "mean       45.919243                 4.880757      2164.145585   \n",
       "std       409.693874                63.125281      4794.783233   \n",
       "min         0.000000                 0.000000         0.000000   \n",
       "25%         0.000000                 0.000000       280.170000   \n",
       "50%         0.000000                 0.000000       462.780000   \n",
       "75%         0.000000                 0.000000       831.245000   \n",
       "max     33520.270000              7002.190000     36475.590000   \n",
       "\n",
       "       collections_12_mths_ex_med  policy_code  acc_now_delinq  tot_coll_amt  \\\n",
       "count               887234.000000     887379.0   887350.000000  8.171030e+05   \n",
       "mean                     0.014380          1.0        0.004991  2.257026e+02   \n",
       "std                      0.134191          0.0        0.077625  1.031137e+04   \n",
       "min                      0.000000          1.0        0.000000  0.000000e+00   \n",
       "25%                      0.000000          1.0        0.000000  0.000000e+00   \n",
       "50%                      0.000000          1.0        0.000000  0.000000e+00   \n",
       "75%                      0.000000          1.0        0.000000  0.000000e+00   \n",
       "max                     20.000000          1.0       14.000000  9.152545e+06   \n",
       "\n",
       "        tot_cur_bal  total_rev_hi_lim  \n",
       "count  8.171030e+05      8.171030e+05  \n",
       "mean   1.394582e+05      3.206862e+04  \n",
       "std    1.537500e+05      3.749826e+04  \n",
       "min    0.000000e+00      0.000000e+00  \n",
       "25%    2.985300e+04      1.390000e+04  \n",
       "50%    8.055900e+04      2.370000e+04  \n",
       "75%    2.082050e+05      3.980000e+04  \n",
       "max    8.000078e+06      9.999999e+06  \n",
       "\n",
       "[8 rows x 32 columns]"
      ]
     },
     "execution_count": 5,
     "metadata": {},
     "output_type": "execute_result"
    }
   ],
   "source": [
    "loan.describe()"
   ]
  },
  {
   "cell_type": "code",
   "execution_count": 7,
   "metadata": {},
   "outputs": [
    {
     "name": "stdout",
     "output_type": "stream",
     "text": [
      "(887379, 13)\n",
      "Index(['loan_amnt', 'funded_amnt', 'funded_amnt_inv', 'int_rate',\n",
      "       'installment', 'grade', 'emp_length', 'home_ownership', 'annual_inc',\n",
      "       'loan_status', 'dti', 'delinq_2yrs', 'total_acc'],\n",
      "      dtype='object')\n"
     ]
    }
   ],
   "source": [
    "#removing all columns that do not have relevance to my hypothesis\n",
    "loan.drop(['id','member_id', 'url', 'issue_d', 'pymnt_plan', 'term', 'issue_d', 'zip_code', \n",
    "           'addr_state', 'inq_last_6mths', 'open_acc', 'pub_rec', \n",
    "          'initial_list_status', 'out_prncp', 'out_prncp_inv', \n",
    "           'last_pymnt_d', 'last_pymnt_amnt', 'next_pymnt_d', 'last_credit_pull_d', \n",
    "          'collections_12_mths_ex_med', 'policy_code','emp_title', 'verification_status',\n",
    "          'revol_bal', 'revol_util', 'total_pymnt', 'sub_grade', 'recoveries', 'application_type', \n",
    "           'total_rev_hi_lim', 'title', 'earliest_cr_line', 'collection_recovery_fee','total_pymnt_inv', \n",
    "           'total_rec_prncp', 'total_rec_int','total_rec_late_fee', 'tot_coll_amt', 'tot_cur_bal',\n",
    "          'acc_now_delinq', 'purpose'],1, inplace=True)\n",
    "print(loan.shape)\n",
    "print(loan.columns)"
   ]
  },
  {
   "cell_type": "code",
   "execution_count": 8,
   "metadata": {},
   "outputs": [
    {
     "name": "stdout",
     "output_type": "stream",
     "text": [
      "(887379, 13)\n",
      "<class 'pandas.core.frame.DataFrame'>\n",
      "RangeIndex: 887379 entries, 0 to 887378\n",
      "Data columns (total 13 columns):\n",
      "loan_amnt          887379 non-null float64\n",
      "funded_amnt        887379 non-null float64\n",
      "funded_amnt_inv    887379 non-null float64\n",
      "int_rate           887379 non-null float64\n",
      "installment        887379 non-null float64\n",
      "grade              887379 non-null object\n",
      "emp_length         842554 non-null object\n",
      "home_ownership     887379 non-null object\n",
      "annual_inc         887375 non-null float64\n",
      "loan_status        887379 non-null object\n",
      "dti                887379 non-null float64\n",
      "delinq_2yrs        887350 non-null float64\n",
      "total_acc          887350 non-null float64\n",
      "dtypes: float64(9), object(4)\n",
      "memory usage: 88.0+ MB\n"
     ]
    }
   ],
   "source": [
    "#checking to see which columns still need to be adjusted by determing their datatypes\n",
    "print(loan.shape)\n",
    "loan.info()"
   ]
  },
  {
   "cell_type": "markdown",
   "metadata": {},
   "source": [
    "# Employee Length Exploration"
   ]
  },
  {
   "cell_type": "code",
   "execution_count": 9,
   "metadata": {},
   "outputs": [
    {
     "data": {
      "text/plain": [
       "0    10+ years\n",
       "1     < 1 year\n",
       "2    10+ years\n",
       "3    10+ years\n",
       "4       1 year\n",
       "Name: emp_length, dtype: object"
      ]
     },
     "execution_count": 9,
     "metadata": {},
     "output_type": "execute_result"
    }
   ],
   "source": [
    "#years and other symbols should be removed \n",
    "loan.loc[:, 'emp_length'].head()"
   ]
  },
  {
   "cell_type": "code",
   "execution_count": 10,
   "metadata": {},
   "outputs": [],
   "source": [
    "#removing all nonnumeric characters and droping rows that are NaaN\n",
    "loan['emp_length'] = loan.emp_length.str.replace(r\"[a-zA-Z]\",'')\n",
    "loan['emp_length'] = loan.emp_length.str.replace(r\"[^\\w]\",'')\n",
    "loan.dropna(subset=['emp_length'], inplace=True)"
   ]
  },
  {
   "cell_type": "code",
   "execution_count": 29,
   "metadata": {},
   "outputs": [
    {
     "name": "stderr",
     "output_type": "stream",
     "text": [
      "C:\\Users\\Kevin\\Anaconda3\\lib\\site-packages\\ipykernel_launcher.py:2: FutureWarning: convert_objects is deprecated.  To re-infer data dtypes for object columns, use Series.infer_objects()\n",
      "For all other conversions use the data-type specific converters pd.to_datetime, pd.to_timedelta and pd.to_numeric.\n",
      "  \n"
     ]
    },
    {
     "data": {
      "text/plain": [
       "dtype('int64')"
      ]
     },
     "execution_count": 29,
     "metadata": {},
     "output_type": "execute_result"
    }
   ],
   "source": [
    "#converting the row to numeric values\n",
    "loan.loc[:, \"emp_length\"] = loan.loc[:, \"emp_length\"].convert_objects(convert_numeric=False)\n",
    "loan.loc[:, 'emp_length'].dtype"
   ]
  },
  {
   "cell_type": "code",
   "execution_count": 12,
   "metadata": {},
   "outputs": [
    {
     "data": {
      "text/plain": [
       "array([10,  1, 10, ...,  5,  1, 10], dtype=int64)"
      ]
     },
     "execution_count": 12,
     "metadata": {},
     "output_type": "execute_result"
    }
   ],
   "source": [
    "loan_emp_length = loan.emp_length.values\n",
    "loan.drop('emp_length',axis = 1)\n",
    "loan_emp_length"
   ]
  },
  {
   "cell_type": "code",
   "execution_count": 13,
   "metadata": {
    "scrolled": false
   },
   "outputs": [
    {
     "data": {
      "text/plain": [
       "<matplotlib.axes._subplots.AxesSubplot at 0x221a91022b0>"
      ]
     },
     "execution_count": 13,
     "metadata": {},
     "output_type": "execute_result"
    },
    {
     "data": {
      "image/png": "[encoded data removed]",
      "text/plain": [
       "<matplotlib.figure.Figure at 0x221a9102ac8>"
      ]
     },
     "metadata": {},
     "output_type": "display_data"
    }
   ],
   "source": [
    "fig, ax = plt.subplots(figsize=(14,7))\n",
    "pd.Series(loan_emp_length).plot(kind='hist',alpha=.7, bins=10, title='Employment Length Distribution', ax=ax)"
   ]
  },
  {
   "cell_type": "markdown",
   "metadata": {},
   "source": [
    "# Interest Rate Exploration"
   ]
  },
  {
   "cell_type": "code",
   "execution_count": 14,
   "metadata": {},
   "outputs": [
    {
     "data": {
      "text/plain": [
       "array([10.65, 15.27, 15.96, ..., 15.99, 19.99, 11.99])"
      ]
     },
     "execution_count": 14,
     "metadata": {},
     "output_type": "execute_result"
    }
   ],
   "source": [
    "loan_int_rate = loan.int_rate.values\n",
    "loan.drop('int_rate',axis = 1)\n",
    "loan_int_rate"
   ]
  },
  {
   "cell_type": "code",
   "execution_count": 15,
   "metadata": {},
   "outputs": [
    {
     "data": {
      "text/plain": [
       "<matplotlib.axes._subplots.AxesSubplot at 0x221a9122358>"
      ]
     },
     "execution_count": 15,
     "metadata": {},
     "output_type": "execute_result"
    },
    {
     "data": {
      "image/png": "[encoded data removed]",
      "text/plain": [
       "<matplotlib.figure.Figure at 0x221a91084e0>"
      ]
     },
     "metadata": {},
     "output_type": "display_data"
    }
   ],
   "source": [
    "fig, ax = plt.subplots(figsize=(14,7))\n",
    "pd.Series(loan_int_rate).plot(kind='hist',alpha=.7, bins=20, title='Interest Rate Distribution', ax=ax)"
   ]
  },
  {
   "cell_type": "code",
   "execution_count": 79,
   "metadata": {
    "scrolled": false
   },
   "outputs": [
    {
     "data": {
      "image/png": "[encoded data removed]",
      "text/plain": [
       "<matplotlib.figure.Figure at 0x22180807b00>"
      ]
     },
     "metadata": {},
     "output_type": "display_data"
    }
   ],
   "source": [
    "fig, ax = plt.subplots(figsize=(15,9))\n",
    "e = loan.boxplot(column='int_rate', by='grade', fontsize=10, ax=ax)"
   ]
  },
  {
   "cell_type": "markdown",
   "metadata": {},
   "source": [
    "# Loan Status Exploration"
   ]
  },
  {
   "cell_type": "code",
   "execution_count": 16,
   "metadata": {
    "scrolled": true
   },
   "outputs": [
    {
     "data": {
      "text/plain": [
       "Current                                                568686\n",
       "Fully Paid                                             200351\n",
       "Charged Off                                             42723\n",
       "Late (31-120 days)                                      10872\n",
       "Issued                                                   7829\n",
       "In Grace Period                                          6015\n",
       "Late (16-30 days)                                        2215\n",
       "Does not meet the credit policy. Status:Fully Paid       1969\n",
       "Default                                                  1148\n",
       "Does not meet the credit policy. Status:Charged Off       746\n",
       "Name: loan_status, dtype: int64"
      ]
     },
     "execution_count": 16,
     "metadata": {},
     "output_type": "execute_result"
    }
   ],
   "source": [
    "loan.loan_status.value_counts()"
   ]
  },
  {
   "cell_type": "code",
   "execution_count": 17,
   "metadata": {},
   "outputs": [],
   "source": [
    "loan = loan[(loan.loc[:,'loan_status'] == 'Fully Paid') | (loan.loc[:, 'loan_status'] == 'Charged Off') | (loan.loc[:, 'loan_status'] == 'Current') | (loan.loc[:, 'loan_status'] == 'Default')]\n",
    "\n",
    "status_dict = {'loan_status': { \"Fully Paid\": 1, \"Current\": 1, \"Charged Off\": 0, \"Default\": 0}}\n",
    "loan = loan.replace(status_dict)"
   ]
  },
  {
   "cell_type": "code",
   "execution_count": 81,
   "metadata": {},
   "outputs": [
    {
     "name": "stdout",
     "output_type": "stream",
     "text": [
      "1    768882\n",
      "0     43838\n",
      "Name: loan_status, dtype: int64\n"
     ]
    },
    {
     "data": {
      "text/plain": [
       "<matplotlib.axes._subplots.AxesSubplot at 0x221800e8438>"
      ]
     },
     "execution_count": 81,
     "metadata": {},
     "output_type": "execute_result"
    },
    {
     "data": {
      "image/png": "[encoded data removed]",
      "text/plain": [
       "<matplotlib.figure.Figure at 0x221807fe908>"
      ]
     },
     "metadata": {},
     "output_type": "display_data"
    }
   ],
   "source": [
    "status_amt  = loan.loc[:,'loan_status'].value_counts()\n",
    "print(str(status_amt))\n",
    "\n",
    "fig, ax = plt.subplots(figsize=(14,7))\n",
    "\n",
    "status_amt.plot(kind='bar', ax=ax)"
   ]
  },
  {
   "cell_type": "markdown",
   "metadata": {},
   "source": [
    "# Home Ownership Exploration"
   ]
  },
  {
   "cell_type": "code",
   "execution_count": 19,
   "metadata": {},
   "outputs": [
    {
     "data": {
      "text/plain": [
       "MORTGAGE    409125\n",
       "RENT        327698\n",
       "OWN          75897\n",
       "OTHER          141\n",
       "NONE            44\n",
       "ANY              3\n",
       "Name: home_ownership, dtype: int64"
      ]
     },
     "execution_count": 19,
     "metadata": {},
     "output_type": "execute_result"
    }
   ],
   "source": [
    "loan.loc[:, 'home_ownership'].value_counts()"
   ]
  },
  {
   "cell_type": "code",
   "execution_count": 20,
   "metadata": {},
   "outputs": [],
   "source": [
    "loan = loan[(loan.loc[:,'home_ownership'] == 'MORTGAGE') | (loan.loc[:, 'home_ownership'] == 'RENT') |(loan.loc[:, 'home_ownership'] == 'OWN') ]\n",
    "\n",
    "status_dict = {'home_ownership': { \"MORTGAGE\": 1, \"OWN\": 1, \"RENT\": 0}}\n",
    "loan = loan.replace(status_dict)"
   ]
  },
  {
   "cell_type": "code",
   "execution_count": 21,
   "metadata": {
    "scrolled": false
   },
   "outputs": [
    {
     "name": "stdout",
     "output_type": "stream",
     "text": [
      "1    485022\n",
      "0    327698\n",
      "Name: home_ownership, dtype: int64\n"
     ]
    },
    {
     "data": {
      "text/plain": [
       "<matplotlib.axes._subplots.AxesSubplot at 0x221a947d898>"
      ]
     },
     "execution_count": 21,
     "metadata": {},
     "output_type": "execute_result"
    },
    {
     "data": {
      "image/png": "[encoded data removed]",
      "text/plain": [
       "<matplotlib.figure.Figure at 0x221a91447b8>"
      ]
     },
     "metadata": {},
     "output_type": "display_data"
    }
   ],
   "source": [
    "status_amt = loan.loc[:,'home_ownership'].value_counts()\n",
    "print(str(status_amt))\n",
    "\n",
    "fig, ax = plt.subplots(figsize=(14,7))\n",
    "\n",
    "status_amt.plot(kind='bar', ax=ax)"
   ]
  },
  {
   "cell_type": "markdown",
   "metadata": {},
   "source": [
    "# Loan Amount Exploration"
   ]
  },
  {
   "cell_type": "code",
   "execution_count": 75,
   "metadata": {
    "scrolled": false
   },
   "outputs": [
    {
     "data": {
      "image/png": "[encoded data removed]",
      "text/plain": [
       "<matplotlib.figure.Figure at 0x221aaa5d320>"
      ]
     },
     "metadata": {},
     "output_type": "display_data"
    },
    {
     "data": {
      "image/png": "[encoded data removed]",
      "text/plain": [
       "<matplotlib.figure.Figure at 0x221a998b400>"
      ]
     },
     "metadata": {},
     "output_type": "display_data"
    }
   ],
   "source": [
    "loan['loan_amnt'].hist(bins=50)\n",
    "plt.ylabel('Frequency')\n",
    "plt.xlabel('Loan Amount')\n",
    "plt.show()\n",
    "q = loan.boxplot(column='loan_amnt')"
   ]
  },
  {
   "cell_type": "markdown",
   "metadata": {},
   "source": [
    "# Default Data Exploration"
   ]
  },
  {
   "cell_type": "code",
   "execution_count": 88,
   "metadata": {},
   "outputs": [],
   "source": [
    "loan_default = loan[loan.loc[:, 'loan_status']==0]"
   ]
  },
  {
   "cell_type": "code",
   "execution_count": 25,
   "metadata": {},
   "outputs": [
    {
     "data": {
      "text/plain": [
       "<matplotlib.axes._subplots.AxesSubplot at 0x221a99864e0>"
      ]
     },
     "execution_count": 25,
     "metadata": {},
     "output_type": "execute_result"
    },
    {
     "data": {
      "image/png": "[encoded data removed]",
      "text/plain": [
       "<matplotlib.figure.Figure at 0x221a9cd2b38>"
      ]
     },
     "metadata": {},
     "output_type": "display_data"
    }
   ],
   "source": [
    "fig, ax = plt.subplots(figsize=(15,9))\n",
    "sns.barplot(x=loan.grade.value_counts().index, y=loan.grade.value_counts(), ax=ax)"
   ]
  },
  {
   "cell_type": "code",
   "execution_count": 85,
   "metadata": {},
   "outputs": [
    {
     "data": {
      "text/plain": [
       "<matplotlib.axes._subplots.AxesSubplot at 0x22180019080>"
      ]
     },
     "execution_count": 85,
     "metadata": {},
     "output_type": "execute_result"
    },
    {
     "data": {
      "image/png": "[encoded data removed]",
      "text/plain": [
       "<matplotlib.figure.Figure at 0x221800c7b38>"
      ]
     },
     "metadata": {},
     "output_type": "display_data"
    }
   ],
   "source": [
    "fig, ax = plt.subplots(figsize=(15,9))\n",
    "sns.barplot(x=loan_default.grade.value_counts().index, y=loan_default.grade.value_counts(), ax=ax)"
   ]
  },
  {
   "cell_type": "code",
   "execution_count": 87,
   "metadata": {},
   "outputs": [
    {
     "data": {
      "text/plain": [
       "<seaborn.axisgrid.FacetGrid at 0x221aca59cc0>"
      ]
     },
     "execution_count": 87,
     "metadata": {},
     "output_type": "execute_result"
    },
    {
     "data": {
      "image/png": "[encoded data removed]",
      "text/plain": [
       "<matplotlib.figure.Figure at 0x221aca59ef0>"
      ]
     },
     "metadata": {},
     "output_type": "display_data"
    }
   ],
   "source": [
    "defaultSample = loan_default.sample(1000)\n",
    "sns.lmplot(x='dti',y='int_rate',data=defaultSample,palette='Set1')"
   ]
  },
  {
   "cell_type": "markdown",
   "metadata": {},
   "source": [
    "# Data Correlation"
   ]
  },
  {
   "cell_type": "code",
   "execution_count": 24,
   "metadata": {},
   "outputs": [
    {
     "data": {
      "image/png": "[encoded data removed]",
      "text/plain": [
       "<matplotlib.figure.Figure at 0x221a9906240>"
      ]
     },
     "metadata": {},
     "output_type": "display_data"
    }
   ],
   "source": [
    "# Visualize correlation matrix in Seaborn using a heat map.\n",
    "sns.heatmap(loan.corr(),\n",
    "            vmin=-1,\n",
    "            vmax=1,\n",
    "            cmap=sns.diverging_palette(220, 10, n=21),\n",
    "            );"
   ]
  },
  {
   "cell_type": "code",
   "execution_count": 54,
   "metadata": {},
   "outputs": [
    {
     "name": "stdout",
     "output_type": "stream",
     "text": [
      "                 loan_amnt  funded_amnt  funded_amnt_inv  int_rate  \\\n",
      "loan_amnt         1.000000     0.999245         0.997528  0.147476   \n",
      "funded_amnt       0.999245     1.000000         0.998435  0.147626   \n",
      "funded_amnt_inv   0.997528     0.998435         1.000000  0.147880   \n",
      "int_rate          0.147476     0.147626         0.147880  1.000000   \n",
      "installment       0.944052     0.945109         0.943297  0.133815   \n",
      "emp_length        0.106187     0.106443         0.107551  0.010441   \n",
      "home_ownership    0.185198     0.185119         0.185285 -0.059302   \n",
      "annual_inc        0.327555     0.327348         0.326741 -0.073625   \n",
      "loan_status       0.003352     0.004266         0.006750 -0.156667   \n",
      "dti               0.046403     0.047240         0.049158  0.161947   \n",
      "delinq_2yrs      -0.003207    -0.002874        -0.002358  0.055569   \n",
      "total_acc         0.219475     0.219422         0.219664 -0.036968   \n",
      "\n",
      "                 installment  emp_length  home_ownership  annual_inc  \\\n",
      "loan_amnt           0.944052    0.106187        0.185198    0.327555   \n",
      "funded_amnt         0.945109    0.106443        0.185119    0.327348   \n",
      "funded_amnt_inv     0.943297    0.107551        0.185285    0.326741   \n",
      "int_rate            0.133815    0.010441       -0.059302   -0.073625   \n",
      "installment         1.000000    0.090467        0.153401    0.321823   \n",
      "emp_length          0.090467    1.000000        0.208539    0.063870   \n",
      "home_ownership      0.153401    0.208539        1.000000    0.142876   \n",
      "annual_inc          0.321823    0.063870        0.142876    1.000000   \n",
      "loan_status        -0.006230    0.014159        0.034655    0.036706   \n",
      "dti                 0.031036    0.043424        0.009408   -0.178729   \n",
      "delinq_2yrs         0.005073    0.025632        0.048569    0.045995   \n",
      "total_acc           0.197013    0.103363        0.210131    0.185531   \n",
      "\n",
      "                 loan_status       dti  delinq_2yrs  total_acc  \n",
      "loan_amnt           0.003352  0.046403    -0.003207   0.219475  \n",
      "funded_amnt         0.004266  0.047240    -0.002874   0.219422  \n",
      "funded_amnt_inv     0.006750  0.049158    -0.002358   0.219664  \n",
      "int_rate           -0.156667  0.161947     0.055569  -0.036968  \n",
      "installment        -0.006230  0.031036     0.005073   0.197013  \n",
      "emp_length          0.014159  0.043424     0.025632   0.103363  \n",
      "home_ownership      0.034655  0.009408     0.048569   0.210131  \n",
      "annual_inc          0.036706 -0.178729     0.045995   0.185531  \n",
      "loan_status         1.000000 -0.010415     0.009510   0.020581  \n",
      "dti                -0.010415  1.000000    -0.008228   0.229640  \n",
      "delinq_2yrs         0.009510 -0.008228     1.000000   0.120527  \n",
      "total_acc           0.020581  0.229640     0.120527   1.000000  \n"
     ]
    }
   ],
   "source": [
    "#all correlated data\n",
    "cor = loan.corr()\n",
    "print(cor)"
   ]
  },
  {
   "cell_type": "markdown",
   "metadata": {},
   "source": [
    "# Part 3: Model Creation"
   ]
  },
  {
   "cell_type": "markdown",
   "metadata": {},
   "source": []
  },
  {
   "cell_type": "markdown",
   "metadata": {},
   "source": [
    "# Train Test Split"
   ]
  },
  {
   "cell_type": "code",
   "execution_count": 30,
   "metadata": {},
   "outputs": [],
   "source": [
    "from sklearn.model_selection import train_test_split"
   ]
  },
  {
   "cell_type": "code",
   "execution_count": 31,
   "metadata": {},
   "outputs": [],
   "source": [
    "feature_cols = loan.loc[:,['int_rate','installment', 'emp_length', 'home_ownership', 'annual_inc', 'dti', \n",
    "                           'delinq_2yrs', 'total_acc']]\n",
    "\n",
    "X  =  feature_cols\n",
    "y = loan.loc[:, 'loan_status']"
   ]
  },
  {
   "cell_type": "code",
   "execution_count": 32,
   "metadata": {},
   "outputs": [
    {
     "name": "stderr",
     "output_type": "stream",
     "text": [
      "C:\\Users\\Kevin\\Anaconda3\\lib\\site-packages\\sklearn\\model_selection\\_split.py:2026: FutureWarning: From version 0.21, test_size will always complement train_size unless both are specified.\n",
      "  FutureWarning)\n"
     ]
    }
   ],
   "source": [
    "X_train, X_test, y_train, y_test = train_test_split(X, y, train_size=.7, random_state=123)"
   ]
  },
  {
   "cell_type": "markdown",
   "metadata": {},
   "source": [
    "# Training a Logistic Regression Model"
   ]
  },
  {
   "cell_type": "code",
   "execution_count": 33,
   "metadata": {},
   "outputs": [],
   "source": [
    "from sklearn.linear_model import LogisticRegression\n",
    "from sklearn import metrics, model_selection"
   ]
  },
  {
   "cell_type": "code",
   "execution_count": 34,
   "metadata": {},
   "outputs": [
    {
     "data": {
      "text/plain": [
       "LogisticRegression(C=1.0, class_weight=None, dual=False, fit_intercept=True,\n",
       "          intercept_scaling=1, max_iter=100, multi_class='ovr', n_jobs=1,\n",
       "          penalty='l2', random_state=None, solver='liblinear', tol=0.0001,\n",
       "          verbose=0, warm_start=False)"
      ]
     },
     "execution_count": 34,
     "metadata": {},
     "output_type": "execute_result"
    }
   ],
   "source": [
    "log_loan = LogisticRegression()\n",
    "log_loan.fit(X_train,y_train)"
   ]
  },
  {
   "cell_type": "code",
   "execution_count": 35,
   "metadata": {},
   "outputs": [
    {
     "name": "stdout",
     "output_type": "stream",
     "text": [
      "0.9461027988319061\n",
      "[1 1 1 ... 1 1 1]\n"
     ]
    }
   ],
   "source": [
    "log_predictions = log_loan.predict(X_test)\n",
    "log_score = log_loan.score(X_test, y_test)\n",
    "print(log_score)\n",
    "print(log_predictions)"
   ]
  },
  {
   "cell_type": "code",
   "execution_count": 36,
   "metadata": {},
   "outputs": [
    {
     "data": {
      "text/plain": [
       "0.9461027988319061"
      ]
     },
     "execution_count": 36,
     "metadata": {},
     "output_type": "execute_result"
    }
   ],
   "source": [
    "# Compare to null model\n",
    "y_pred_null = np.ones(y_test.shape) * y_train.mean() > .01\n",
    "metrics.accuracy_score(y_test, y_pred_null)"
   ]
  },
  {
   "cell_type": "code",
   "execution_count": 43,
   "metadata": {},
   "outputs": [
    {
     "data": {
      "text/plain": [
       "array([[     0,  13141],\n",
       "       [     0, 230675]], dtype=int64)"
      ]
     },
     "execution_count": 43,
     "metadata": {},
     "output_type": "execute_result"
    }
   ],
   "source": [
    "# Predicts that someone would would pay be current on their payments, but 13,104 defaulted or were charged\n",
    "default_pred_prob = log_loan.predict_proba(X_test)[:, 1]\n",
    "y_pred = (default_pred_prob > .001 ).astype(int)\n",
    "metrics.confusion_matrix(y_test, y_pred)"
   ]
  },
  {
   "cell_type": "markdown",
   "metadata": {},
   "source": [
    "# Training a Decision Tree Model"
   ]
  },
  {
   "cell_type": "code",
   "execution_count": 44,
   "metadata": {},
   "outputs": [
    {
     "data": {
      "text/plain": [
       "DecisionTreeRegressor(criterion='mse', max_depth=None, max_features=None,\n",
       "           max_leaf_nodes=None, min_impurity_decrease=0.0,\n",
       "           min_impurity_split=None, min_samples_leaf=1,\n",
       "           min_samples_split=2, min_weight_fraction_leaf=0.0,\n",
       "           presort=False, random_state=1, splitter='best')"
      ]
     },
     "execution_count": 44,
     "metadata": {},
     "output_type": "execute_result"
    }
   ],
   "source": [
    "# Instantiate a DecisionTreeRegressor (with random_state=1).\n",
    "from sklearn.tree import DecisionTreeRegressor\n",
    "\n",
    "treereg = DecisionTreeRegressor(random_state=1)"
   ]
  },
  {
   "cell_type": "code",
   "execution_count": 46,
   "metadata": {},
   "outputs": [
    {
     "data": {
      "text/plain": [
       "DecisionTreeRegressor(criterion='mse', max_depth=None, max_features=None,\n",
       "           max_leaf_nodes=None, min_impurity_decrease=0.0,\n",
       "           min_impurity_split=None, min_samples_leaf=1,\n",
       "           min_samples_split=2, min_weight_fraction_leaf=0.0,\n",
       "           presort=False, random_state=1, splitter='best')"
      ]
     },
     "execution_count": 46,
     "metadata": {},
     "output_type": "execute_result"
    }
   ],
   "source": [
    "treereg.fit(X_train,y_train)"
   ]
  },
  {
   "cell_type": "code",
   "execution_count": 47,
   "metadata": {},
   "outputs": [
    {
     "data": {
      "text/plain": [
       "0.22373818638440748"
      ]
     },
     "execution_count": 47,
     "metadata": {},
     "output_type": "execute_result"
    }
   ],
   "source": [
    "# Use leave-one-out cross-validation (LOOCV) to estimate the RMSE for this model.\n",
    "from sklearn.model_selection import cross_val_score\n",
    "treereg = DecisionTreeRegressor(max_depth=1, random_state=1)\n",
    "scores = cross_val_score(treereg, X_train, y_train, cv=14, scoring='neg_mean_squared_error')\n",
    "np.mean(np.sqrt(-scores))"
   ]
  },
  {
   "cell_type": "code",
   "execution_count": 48,
   "metadata": {},
   "outputs": [],
   "source": [
    "# List of values to try:\n",
    "max_depth_range = list(range(1, 11))\n",
    "\n",
    "# List to store the average RMSE for each value of max_depth:\n",
    "RMSE_scores = []\n",
    "\n",
    "# Use LOOCV with each value of max_depth.\n",
    "for depth in max_depth_range:\n",
    "    treereg = DecisionTreeRegressor(max_depth=depth, random_state=1)\n",
    "    MSE_scores = cross_val_score(treereg, X_train, y_train, cv=14, scoring='neg_mean_squared_error')\n",
    "    RMSE_scores.append(np.mean(np.sqrt(-MSE_scores)))"
   ]
  },
  {
   "cell_type": "code",
   "execution_count": 49,
   "metadata": {},
   "outputs": [
    {
     "data": {
      "image/png": "[encoded data removed]",
      "text/plain": [
       "<matplotlib.figure.Figure at 0x221a94ba668>"
      ]
     },
     "metadata": {},
     "output_type": "display_data"
    }
   ],
   "source": [
    "plt.plot(max_depth_range, RMSE_scores);\n",
    "plt.xlabel('max_depth');\n",
    "plt.ylabel('RMSE (lower is better)');"
   ]
  },
  {
   "cell_type": "code",
   "execution_count": 50,
   "metadata": {},
   "outputs": [
    {
     "data": {
      "text/plain": [
       "0.19662578078645376"
      ]
     },
     "execution_count": 50,
     "metadata": {},
     "output_type": "execute_result"
    }
   ],
   "source": [
    "treereg = DecisionTreeRegressor(max_depth=9, random_state=1)\n",
    "scores = cross_val_score(treereg, X, y, cv=14, scoring='neg_mean_squared_error')\n",
    "np.mean(np.sqrt(-scores))"
   ]
  },
  {
   "cell_type": "code",
   "execution_count": 52,
   "metadata": {},
   "outputs": [
    {
     "data": {
      "text/plain": [
       "0.048214584288620466"
      ]
     },
     "execution_count": 52,
     "metadata": {},
     "output_type": "execute_result"
    }
   ],
   "source": [
    "treereg = DecisionTreeRegressor(max_depth=9, random_state=1)\n",
    "treereg.fit(X,y)\n",
    "y_pred = treereg.predict(X_test)\n",
    "\n",
    "metrics.mean_squared_error(y_test, y_pred)"
   ]
  },
  {
   "cell_type": "markdown",
   "metadata": {},
   "source": []
  },
  {
   "cell_type": "markdown",
   "metadata": {},
   "source": [
    "#  Training a Random Forest Model"
   ]
  },
  {
   "cell_type": "code",
   "execution_count": 69,
   "metadata": {},
   "outputs": [
    {
     "data": {
      "text/plain": [
       "RandomForestRegressor(bootstrap=True, criterion='mse', max_depth=None,\n",
       "           max_features=5, max_leaf_nodes=None, min_impurity_decrease=0.0,\n",
       "           min_impurity_split=None, min_samples_leaf=1,\n",
       "           min_samples_split=2, min_weight_fraction_leaf=0.0,\n",
       "           n_estimators=150, n_jobs=1, oob_score=True, random_state=1,\n",
       "           verbose=0, warm_start=False)"
      ]
     },
     "execution_count": 69,
     "metadata": {},
     "output_type": "execute_result"
    }
   ],
   "source": [
    "from sklearn.ensemble import RandomForestClassifier\n",
    "\n",
    "rfc = RandomForestClassifier(n_estimators=5,random_state=101)"
   ]
  },
  {
   "cell_type": "code",
   "execution_count": 71,
   "metadata": {},
   "outputs": [
    {
     "data": {
      "text/plain": [
       "RandomForestClassifier(bootstrap=True, class_weight=None, criterion='gini',\n",
       "            max_depth=None, max_features='auto', max_leaf_nodes=None,\n",
       "            min_impurity_decrease=0.0, min_impurity_split=None,\n",
       "            min_samples_leaf=1, min_samples_split=2,\n",
       "            min_weight_fraction_leaf=0.0, n_estimators=5, n_jobs=1,\n",
       "            oob_score=False, random_state=101, verbose=0, warm_start=False)"
      ]
     },
     "execution_count": 71,
     "metadata": {},
     "output_type": "execute_result"
    }
   ],
   "source": [
    "rfc.fit(X_train, y_train)"
   ]
  },
  {
   "cell_type": "code",
   "execution_count": 93,
   "metadata": {},
   "outputs": [],
   "source": [
    "rfc_predictions = rfc.predict(X_test)"
   ]
  },
  {
   "cell_type": "markdown",
   "metadata": {},
   "source": [
    "# Evaluation Models"
   ]
  },
  {
   "cell_type": "code",
   "execution_count": 73,
   "metadata": {},
   "outputs": [],
   "source": [
    "from sklearn.metrics import classification_report, confusion_matrix"
   ]
  },
  {
   "cell_type": "markdown",
   "metadata": {},
   "source": [
    "Logistic Model"
   ]
  },
  {
   "cell_type": "code",
   "execution_count": 74,
   "metadata": {},
   "outputs": [
    {
     "name": "stdout",
     "output_type": "stream",
     "text": [
      "Confusion Matrix:\n",
      "[[     0  13141]\n",
      " [     0 230675]]\n",
      "\n",
      "\n",
      "Classification Report:\n",
      "             precision    recall  f1-score   support\n",
      "\n",
      "          0       0.00      0.00      0.00     13141\n",
      "          1       0.95      1.00      0.97    230675\n",
      "\n",
      "avg / total       0.90      0.95      0.92    243816\n",
      "\n"
     ]
    },
    {
     "name": "stderr",
     "output_type": "stream",
     "text": [
      "C:\\Users\\Kevin\\Anaconda3\\lib\\site-packages\\sklearn\\metrics\\classification.py:1135: UndefinedMetricWarning: Precision and F-score are ill-defined and being set to 0.0 in labels with no predicted samples.\n",
      "  'precision', 'predicted', average, warn_for)\n"
     ]
    }
   ],
   "source": [
    "print('Confusion Matrix:')\n",
    "print(confusion_matrix(y_test,log_predictions))\n",
    "print('\\n')\n",
    "print('Classification Report:')\n",
    "print(classification_report(y_test,log_predictions))"
   ]
  },
  {
   "cell_type": "code",
   "execution_count": null,
   "metadata": {},
   "outputs": [],
   "source": []
  },
  {
   "cell_type": "code",
   "execution_count": 94,
   "metadata": {},
   "outputs": [
    {
     "name": "stdout",
     "output_type": "stream",
     "text": [
      "Confusion Matrix:\n",
      "[[   271  12870]\n",
      " [  1506 229169]]\n",
      "\n",
      "\n",
      "Classification Report:\n",
      "             precision    recall  f1-score   support\n",
      "\n",
      "          0       0.15      0.02      0.04     13141\n",
      "          1       0.95      0.99      0.97    230675\n",
      "\n",
      "avg / total       0.90      0.94      0.92    243816\n",
      "\n"
     ]
    }
   ],
   "source": [
    "print('Confusion Matrix:')\n",
    "print(confusion_matrix(y_test,rfc_predictions))\n",
    "print('\\n')\n",
    "print('Classification Report:')\n",
    "print(classification_report(y_test,rfc_predictions))"
   ]
  },
  {
   "cell_type": "markdown",
   "metadata": {},
   "source": [
    "# Conclusion"
   ]
  },
  {
   "cell_type": "code",
   "execution_count": null,
   "metadata": {},
   "outputs": [],
   "source": []
  }
 ],
 "metadata": {
  "kernelspec": {
   "display_name": "Python 3",
   "language": "python",
   "name": "python3"
  },
  "language_info": {
   "codemirror_mode": {
    "name": "ipython",
    "version": 3
   },
   "file_extension": ".py",
   "mimetype": "text/x-python",
   "name": "python",
   "nbconvert_exporter": "python",
   "pygments_lexer": "ipython3",
   "version": "3.6.4"
  }
 },
 "nbformat": 4,
 "nbformat_minor": 2
}
